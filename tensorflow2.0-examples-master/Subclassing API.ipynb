{
 "cells": [
  {
   "cell_type": "markdown",
   "metadata": {},
   "source": [
    "# Subclassing API - Tensorflow 2.0"
   ]
  },
  {
   "cell_type": "code",
   "execution_count": 15,
   "metadata": {},
   "outputs": [],
   "source": [
    "import tensorflow as tf\n",
    "import numpy as np"
   ]
  },
  {
   "cell_type": "markdown",
   "metadata": {},
   "source": [
    "## Be sure to used Tensorflow 2.0"
   ]
  },
  {
   "cell_type": "code",
   "execution_count": 16,
   "metadata": {},
   "outputs": [],
   "source": [
    "assert hasattr(tf, \"function\") # Be sure to use tensorflow 2.0"
   ]
  },
  {
   "cell_type": "markdown",
   "metadata": {},
   "source": [
    "### Import the dataset"
   ]
  },
  {
   "cell_type": "code",
   "execution_count": 17,
   "metadata": {},
   "outputs": [],
   "source": [
    "from sklearn.preprocessing import StandardScaler\n",
    "# Fashio MNIST\n",
    "fashion_mnist = tf.keras.datasets.fashion_mnist\n",
    "(images, targets), (_, _) = fashion_mnist.load_data()\n",
    "# Get only a subpart of the dataset\n",
    "images = images[:10000]\n",
    "targets = targets [:10000]\n",
    "# Reshape the dataset and convert to float\n",
    "images = images.reshape(-1, 784)\n",
    "images = images.astype(float)\n",
    "# Normalize images\n",
    "scaler = StandardScaler()\n",
    "images = scaler.fit_transform(images)"
   ]
  },
  {
   "cell_type": "markdown",
   "metadata": {},
   "source": [
    "## Create a model using the SubClassing API\n",
    "The following call is not working because self.output is already set by the parent: tf.keras.Model"
   ]
  },
  {
   "cell_type": "code",
   "execution_count": 19,
   "metadata": {},
   "outputs": [
    {
     "name": "stdout",
     "output_type": "stream",
     "text": [
      "e= can't set attribute\n"
     ]
    }
   ],
   "source": [
    "class CustomModel(tf.keras.Model):\n",
    "    \n",
    "    def __init__(self):\n",
    "        super(CustomModel, self).__init__()\n",
    "\n",
    "        # First in the init method you need to instanciate the layers you will use\n",
    "        self.first_layer = tf.keras.layers.Dense(64)\n",
    "        # WARNING: DO NOT CALL ONE OF YOUR CLASS VARIABLE: output\n",
    "        self.output = tf.keras.layers.Dense(10, activation='softmax', name=\"d1\")\n",
    "\n",
    "    def call(self, x):\n",
    "        # Then in the call method you can execute your operations\n",
    "        layer1_out = self.first_layer(x)\n",
    "        output = self.output_layer(layer1_out)\n",
    "        return output\n",
    "\n",
    "try:\n",
    "    model = CustomModel()\n",
    "except Exception as e:\n",
    "    print(\"e=\", e)"
   ]
  },
  {
   "cell_type": "code",
   "execution_count": 26,
   "metadata": {},
   "outputs": [
    {
     "data": {
      "text/plain": [
       "array([[0.07368525, 0.01174379, 0.03136529, 0.01404753, 0.15259095,\n",
       "        0.14582336, 0.19374155, 0.26966166, 0.07976336, 0.02757731]],\n",
       "      dtype=float32)"
      ]
     },
     "execution_count": 26,
     "metadata": {},
     "output_type": "execute_result"
    }
   ],
   "source": [
    "class CustomModel(tf.keras.Model):\n",
    "    \n",
    "    def __init__(self):\n",
    "        super(CustomModel, self).__init__()        \n",
    "        # First in the init method you need to instanciate the layers you will use\n",
    "        self.first_layer = tf.keras.layers.Dense(64, activation=\"relu\", name=\"first_layer\")\n",
    "        self.output_layer = tf.keras.layers.Dense(10, activation='softmax', name=\"output_layer\")\n",
    "\n",
    "    def call(self, x):\n",
    "        # Then in the call method you can execute your operations\n",
    "        prev = self.first_layer(x)\n",
    "        out = self.output_layer(prev)\n",
    "        return out\n",
    "\n",
    "model = CustomModel()\n",
    "model.predict(images[0:1])"
   ]
  },
  {
   "cell_type": "markdown",
   "metadata": {},
   "source": [
    "The cell above is now working: We can call model.predict as we would do with a basic keras model. <br> \n",
    "The <b>predict</b> method of the parent class called the <b>call</b> method from the <b>CustomModel</b> class"
   ]
  },
  {
   "cell_type": "code",
   "execution_count": 27,
   "metadata": {},
   "outputs": [
    {
     "data": {
      "text/plain": [
       "array([[0.07368525, 0.01174379, 0.03136529, 0.01404753, 0.15259095,\n",
       "        0.14582336, 0.19374155, 0.26966166, 0.07976336, 0.02757731]],\n",
       "      dtype=float32)"
      ]
     },
     "execution_count": 27,
     "metadata": {},
     "output_type": "execute_result"
    }
   ],
   "source": [
    "model.predict(images[0:1])"
   ]
  },
  {
   "cell_type": "markdown",
   "metadata": {},
   "source": [
    "### Train the model\n",
    "\n",
    "The model can be used as a normal keras model. Thus, to train it you just need to compile and to fit the model."
   ]
  },
  {
   "cell_type": "code",
   "execution_count": 28,
   "metadata": {},
   "outputs": [],
   "source": [
    "# Compile the model\n",
    "model.compile(\n",
    "    loss=\"sparse_categorical_crossentropy\",\n",
    "    optimizer=\"sgd\",\n",
    "    metrics=[\"accuracy\"]\n",
    ")"
   ]
  },
  {
   "cell_type": "code",
   "execution_count": 29,
   "metadata": {},
   "outputs": [
    {
     "name": "stdout",
     "output_type": "stream",
     "text": [
      "Epoch 1/10\n",
      "10000/10000 [==============================] - 0s 46us/sample - loss: 1.7226 - accuracy: 0.4421\n",
      "Epoch 2/10\n",
      "10000/10000 [==============================] - 0s 38us/sample - loss: 1.0365 - accuracy: 0.6625\n",
      "Epoch 3/10\n",
      "10000/10000 [==============================] - 0s 37us/sample - loss: 0.8662 - accuracy: 0.7163\n",
      "Epoch 4/10\n",
      "10000/10000 [==============================] - 0s 37us/sample - loss: 0.7776 - accuracy: 0.7437\n",
      "Epoch 5/10\n",
      "10000/10000 [==============================] - 0s 38us/sample - loss: 0.7210 - accuracy: 0.7616\n",
      "Epoch 6/10\n",
      "10000/10000 [==============================] - 0s 39us/sample - loss: 0.6805 - accuracy: 0.7699\n",
      "Epoch 7/10\n",
      "10000/10000 [==============================] - 0s 38us/sample - loss: 0.6491 - accuracy: 0.7802\n",
      "Epoch 8/10\n",
      "10000/10000 [==============================] - 0s 37us/sample - loss: 0.6239 - accuracy: 0.7876\n",
      "Epoch 9/10\n",
      "10000/10000 [==============================] - 0s 38us/sample - loss: 0.6025 - accuracy: 0.7949\n",
      "Epoch 10/10\n",
      "10000/10000 [==============================] - 0s 47us/sample - loss: 0.5846 - accuracy: 0.7973\n"
     ]
    }
   ],
   "source": [
    "history = model.fit(images, targets, epochs=10)"
   ]
  }
 ],
 "metadata": {
  "kernelspec": {
   "display_name": "Python 3",
   "language": "python",
   "name": "python3"
  },
  "language_info": {
   "codemirror_mode": {
    "name": "ipython",
    "version": 3
   },
   "file_extension": ".py",
   "mimetype": "text/x-python",
   "name": "python",
   "nbconvert_exporter": "python",
   "pygments_lexer": "ipython3",
   "version": "3.6.7"
  }
 },
 "nbformat": 4,
 "nbformat_minor": 2
}
